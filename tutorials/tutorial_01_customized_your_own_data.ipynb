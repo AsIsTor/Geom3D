{
 "cells": [
  {
   "cell_type": "markdown",
   "id": "b2cb2cbf",
   "metadata": {},
   "source": [
    "# Tutorial 1: How to Apply Geom3D On Your Customized Data"
   ]
  },
  {
   "cell_type": "markdown",
   "id": "df275955",
   "metadata": {},
   "source": [
    "## Step 1. Load Packages and Set Random Seeds and Device"
   ]
  },
  {
   "cell_type": "code",
   "execution_count": 25,
   "id": "c5d3022e",
   "metadata": {},
   "outputs": [],
   "source": [
    "import numpy as np\n",
    "import torch\n",
    "from Geom3D.models import SchNet\n",
    "\n",
    "seed = 42\n",
    "np.random.seed(seed)\n",
    "torch.cuda.manual_seed_all(seed)\n",
    "\n",
    "device = \"cuda\" if torch.cuda.is_available() else torch.device(\"cpu\")"
   ]
  },
  {
   "cell_type": "markdown",
   "id": "e4d7376c",
   "metadata": {},
   "source": [
    "## Step 2. Data Loading\n",
    "\n",
    "The geometric data on small molecules, proteins, and crystal materials can be in many formats:\n",
    "- SDF\n",
    "- CIF\n",
    "- HDF5\n",
    "\n",
    "The most important thing is to extract the atom types and coordinates. Below we show two simple data points using customized information."
   ]
  },
  {
   "cell_type": "code",
   "execution_count": 13,
   "id": "5b952dbf",
   "metadata": {},
   "outputs": [],
   "source": [
    "from torch_geometric.data import Data, Batch"
   ]
  },
  {
   "cell_type": "markdown",
   "id": "a0830956",
   "metadata": {},
   "source": [
    "Define Molecule 0"
   ]
  },
  {
   "cell_type": "code",
   "execution_count": 9,
   "id": "6618e4e4",
   "metadata": {},
   "outputs": [],
   "source": [
    "# three positions\n",
    "positions = [\n",
    "    [0, 0, 0],\n",
    "    [1, 0, 0],\n",
    "    [0, 1, 0],\n",
    "]\n",
    "# 5 stands for Carbon (index starting with 0)\n",
    "atom_types = [5, 5, 5]\n",
    "# label\n",
    "y = torch.tensor(0.5, dtype=torch.float32)\n",
    "\n",
    "atom_types = torch.tensor(atom_types, dtype=torch.long)\n",
    "positions = torch.tensor(positions, dtype=torch.float)\n",
    "\n",
    "molecule_0 = Data(\n",
    "    x=atom_types,\n",
    "    positions=positions,\n",
    "    y=y\n",
    ")"
   ]
  },
  {
   "cell_type": "markdown",
   "id": "599c9fd9",
   "metadata": {},
   "source": [
    "Define Molecule 1"
   ]
  },
  {
   "cell_type": "code",
   "execution_count": 11,
   "id": "8c31a19e",
   "metadata": {},
   "outputs": [],
   "source": [
    "# four positions\n",
    "positions = [\n",
    "    [0, 0, 0],\n",
    "    [0, 0, 0.5],\n",
    "    [0, 1, 0.5],\n",
    "    [0, 0.5, 0],\n",
    "]\n",
    "# 5 stands for Carbon and 6 stands for Nitrogen (index starting with 0)\n",
    "atom_types = [5, 5, 5, 6]\n",
    "# label\n",
    "y = torch.tensor(0.6, dtype=torch.float32)\n",
    "\n",
    "atom_types = torch.tensor(atom_types, dtype=torch.long)\n",
    "positions = torch.tensor(positions, dtype=torch.float)\n",
    "\n",
    "molecule_1 = Data(\n",
    "    x=atom_types,\n",
    "    positions=positions,\n",
    "    y=y\n",
    ")"
   ]
  },
  {
   "cell_type": "markdown",
   "id": "bc71d74f",
   "metadata": {},
   "source": [
    "Then we gather two molecule data into a batch. In PyG, it will gather two small graph data into one sparse graph data.\n",
    "\n",
    "**Notice**: Typically, this is done in the Dataloader class by default."
   ]
  },
  {
   "cell_type": "code",
   "execution_count": 21,
   "id": "4491c929",
   "metadata": {},
   "outputs": [
    {
     "name": "stdout",
     "output_type": "stream",
     "text": [
      "molecule 0 is:\n",
      "Data(x=[3], y=0.5, positions=[3, 3])\n",
      "\n",
      "molecule 1 is:\n",
      "Data(x=[4], y=0.6000000238418579, positions=[4, 3])\n",
      "\n",
      "The collated molecules in batch is:\n",
      "DataBatch(x=[7], y=[2], positions=[7, 3], batch=[7], ptr=[3])\n",
      "\n",
      "The batch.batch field defines which atoms belong to which molecule/graph:\n",
      "tensor([0, 0, 0, 1, 1, 1, 1])\n"
     ]
    }
   ],
   "source": [
    "data_list = [molecule_0, molecule_1]\n",
    "batch = Batch.from_data_list(data_list)\n",
    "print(\"molecule 0 is:\\n{}\\n\".format(molecule_0))\n",
    "print(\"molecule 1 is:\\n{}\\n\".format(molecule_1))\n",
    "print(\"The collated molecules in batch is:\\n{}\\n\".format(batch))\n",
    "print(\"The batch.batch field defines which atoms belong to which molecule/graph:\\n{}\".format(batch.batch))"
   ]
  },
  {
   "cell_type": "markdown",
   "id": "1a5201e8",
   "metadata": {},
   "source": [
    "## Step 3. Set Model"
   ]
  },
  {
   "cell_type": "code",
   "execution_count": 26,
   "id": "a1e7f4c8",
   "metadata": {},
   "outputs": [],
   "source": [
    "node_class, edge_class = 119, 5\n",
    "num_tasks = 1\n",
    "\n",
    "emb_dim = 128\n",
    "SchNet_num_filters = 128\n",
    "SchNet_num_interactions = 6\n",
    "SchNet_num_gaussians = 51\n",
    "SchNet_cutoff = 10\n",
    "SchNet_readout = \"mean\"\n",
    "\n",
    "model = SchNet(\n",
    "    hidden_channels=emb_dim,\n",
    "    num_filters=SchNet_num_filters,\n",
    "    num_interactions=SchNet_num_interactions,\n",
    "    num_gaussians=SchNet_num_gaussians,\n",
    "    cutoff=SchNet_cutoff,\n",
    "    readout=SchNet_readout,\n",
    "    node_class=node_class,\n",
    ").to(device)\n",
    "graph_pred_linear = torch.nn.Linear(emb_dim, num_tasks).to(device)"
   ]
  },
  {
   "cell_type": "markdown",
   "id": "6422a05a",
   "metadata": {},
   "source": [
    "## Step 4. Make Predictions"
   ]
  },
  {
   "cell_type": "code",
   "execution_count": 30,
   "id": "5ac29331",
   "metadata": {},
   "outputs": [
    {
     "name": "stdout",
     "output_type": "stream",
     "text": [
      "molecule 3D representation:\n",
      "torch.Size([2, 128])\n",
      "\n",
      "The predicted values for two molecules are:\n",
      "tensor([0.2268, 0.3431], device='cuda:0', grad_fn=<SqueezeBackward0>)\n"
     ]
    }
   ],
   "source": [
    "batch = batch.to(device)\n",
    "molecule_3D_repr = model(batch.x, batch.positions, batch.batch)\n",
    "pred = graph_pred_linear(molecule_3D_repr).squeeze()\n",
    "print(\"molecule 3D representation:\\n{}\\n\".format(molecule_3D_repr.size()))\n",
    "print(\"The predicted values for two molecules are:\\n{}\".format(pred))"
   ]
  },
  {
   "cell_type": "markdown",
   "id": "ff6eb01e",
   "metadata": {},
   "source": [
    "Notice that till here we are only using a randomly-initialized SchNet to make predictions, i.e., no optimization is conducted. We will show how to do this in the following tutorials."
   ]
  }
 ],
 "metadata": {
  "kernelspec": {
   "display_name": "Python 3 (ipykernel)",
   "language": "python",
   "name": "python3"
  },
  "language_info": {
   "codemirror_mode": {
    "name": "ipython",
    "version": 3
   },
   "file_extension": ".py",
   "mimetype": "text/x-python",
   "name": "python",
   "nbconvert_exporter": "python",
   "pygments_lexer": "ipython3",
   "version": "3.7.13"
  }
 },
 "nbformat": 4,
 "nbformat_minor": 5
}

{
 "cells": [
  {
   "cell_type": "markdown",
   "id": "687d9a6f",
   "metadata": {},
   "source": [
    "# Tutorial 4: Geometric Pretraining"
   ]
  },
  {
   "cell_type": "markdown",
   "id": "7510040d",
   "metadata": {},
   "source": [
    "## Step 1. Load Packages and Set Random Seeds and Device"
   ]
  },
  {
   "cell_type": "code",
   "execution_count": 1,
   "id": "0a4ebd89",
   "metadata": {},
   "outputs": [
    {
     "name": "stderr",
     "output_type": "stream",
     "text": [
      "/home/admin.shengchao.liu/anaconda3/envs/Geom3D_final/lib/python3.7/site-packages/tqdm/auto.py:21: TqdmWarning: IProgress not found. Please update jupyter and ipywidgets. See https://ipywidgets.readthedocs.io/en/stable/user_install.html\n",
      "  from .autonotebook import tqdm as notebook_tqdm\n"
     ]
    }
   ],
   "source": [
    "import numpy as np\n",
    "\n",
    "import torch\n",
    "import torch.nn as nn\n",
    "import torch.optim as optim\n",
    "from torch_geometric.loader import DataLoader\n",
    "\n",
    "from Geom3D.models import SchNet, GeoSSL_DDM\n",
    "from Geom3D.datasets import Molecule3DDataset\n",
    "from Geom3D.dataloaders import AtomTupleExtractor, DataLoaderAtomTuple\n",
    "\n",
    "import sys\n",
    "sys.path.insert(0, \"../examples_3D\")\n",
    "\n",
    "from tqdm import tqdm\n",
    "\n",
    "seed = 42\n",
    "np.random.seed(seed)\n",
    "torch.cuda.manual_seed_all(seed)\n",
    "\n",
    "device = \"cuda\" if torch.cuda.is_available() else torch.device(\"cpu\")"
   ]
  },
  {
   "cell_type": "code",
   "execution_count": 2,
   "id": "10930b17",
   "metadata": {},
   "outputs": [],
   "source": [
    "import numpy as np\n",
    "\n",
    "import torch\n",
    "import torch.nn as nn\n",
    "import torch.optim as optim\n",
    "from torch_geometric.loader import DataLoader\n",
    "\n",
    "from Geom3D.models import SchNet, GeoSSL_DDM\n",
    "from Geom3D.datasets import Molecule3DDataset\n",
    "from Geom3D.dataloaders import AtomTupleExtractor, DataLoaderAtomTuple\n",
    "\n",
    "import sys\n",
    "sys.path.insert(0, \"../examples_3D\")\n",
    "\n",
    "from tqdm import tqdm\n",
    "\n",
    "seed = 42\n",
    "np.random.seed(seed)\n",
    "torch.cuda.manual_seed_all(seed)\n",
    "\n",
    "device = \"cuda\" if torch.cuda.is_available() else torch.device(\"cpu\")"
   ]
  },
  {
   "cell_type": "markdown",
   "id": "8c348f89",
   "metadata": {},
   "source": [
    "## Step 2. Set Task, Dataset and Dataloader"
   ]
  },
  {
   "cell_type": "code",
   "execution_count": 3,
   "id": "0ac60336",
   "metadata": {},
   "outputs": [
    {
     "name": "stdout",
     "output_type": "stream",
     "text": [
      "Dataset: QM9\n",
      "Data: Data(x=[2359210], edge_index=[2, 4883516], edge_attr=[4883516, 3], positions=[2359210, 3], id=[130831], y=[1700803])\n"
     ]
    }
   ],
   "source": [
    "dataset = \"QM9\"\n",
    "\n",
    "data_root = \"../data/{}\".format(dataset)\n",
    "transform = AtomTupleExtractor(ratio=0.1, option=\"combination\")\n",
    "\n",
    "dataset = Molecule3DDataset(data_root, dataset=dataset, transform=transform)\n",
    "\n",
    "batch_size = 128\n",
    "num_workers = 0\n",
    "loader = DataLoaderAtomTuple(dataset, batch_size=batch_size, shuffle=True, num_workers=num_workers)"
   ]
  },
  {
   "cell_type": "markdown",
   "id": "14e1614c",
   "metadata": {},
   "source": [
    "## Step 3. Set Model"
   ]
  },
  {
   "cell_type": "code",
   "execution_count": 4,
   "id": "c5535012",
   "metadata": {},
   "outputs": [],
   "source": [
    "node_class, edge_class = 119, 5\n",
    "num_tasks = 1\n",
    "\n",
    "emb_dim = 128\n",
    "SchNet_num_filters = 128\n",
    "SchNet_num_interactions = 6\n",
    "SchNet_num_gaussians = 51\n",
    "SchNet_cutoff = 10\n",
    "SchNet_readout = \"mean\"\n",
    "\n",
    "model = SchNet(\n",
    "    hidden_channels=emb_dim,\n",
    "    num_filters=SchNet_num_filters,\n",
    "    num_interactions=SchNet_num_interactions,\n",
    "    num_gaussians=SchNet_num_gaussians,\n",
    "    cutoff=SchNet_cutoff,\n",
    "    readout=SchNet_readout,\n",
    "    node_class=node_class,\n",
    ").to(device)\n",
    "graph_pred_linear = torch.nn.Linear(emb_dim, num_tasks).to(device)"
   ]
  },
  {
   "cell_type": "markdown",
   "id": "4ec2b245",
   "metadata": {},
   "source": [
    "## Step 4. Set Pretraining Model"
   ]
  },
  {
   "cell_type": "code",
   "execution_count": 5,
   "id": "52dd9092",
   "metadata": {},
   "outputs": [],
   "source": [
    "emb_dim = 128\n",
    "GeoSSL_sigma_begin, GeoSSL_sigma_end, GeoSSL_num_noise_level = 10, 0.01, 10\n",
    "GeoSSL_noise_type = \"symmetry\"\n",
    "GeoSSL_anneal_power = 2\n",
    "\n",
    "GeoSSL_DDM_01 = GeoSSL_DDM(\n",
    "    emb_dim,\n",
    "    sigma_begin=GeoSSL_sigma_begin, sigma_end=GeoSSL_sigma_end, num_noise_level=GeoSSL_num_noise_level,\n",
    "    noise_type=GeoSSL_noise_type, anneal_power=GeoSSL_anneal_power).to(device)\n",
    "GeoSSL_DDM_02 = GeoSSL_DDM(\n",
    "    emb_dim,\n",
    "    sigma_begin=GeoSSL_sigma_begin, sigma_end=GeoSSL_sigma_end, num_noise_level=GeoSSL_num_noise_level,\n",
    "    noise_type=GeoSSL_noise_type, anneal_power=GeoSSL_anneal_power).to(device)"
   ]
  },
  {
   "cell_type": "markdown",
   "id": "030bebfa",
   "metadata": {},
   "source": [
    "## Step 5. Set Optimizer"
   ]
  },
  {
   "cell_type": "code",
   "execution_count": 6,
   "id": "365f7908",
   "metadata": {},
   "outputs": [],
   "source": [
    "lr = 5e-4\n",
    "decay = 0\n",
    "criterion = nn.BCEWithLogitsLoss()\n",
    "\n",
    "model_param_group = [\n",
    "    {\"params\": model.parameters(), \"lr\": lr},\n",
    "    {\"params\": graph_pred_linear.parameters(), \"lr\": lr},\n",
    "    {\"params\": GeoSSL_DDM_01.parameters(), \"lr\": lr},\n",
    "    {\"params\": GeoSSL_DDM_02.parameters(), \"lr\": lr},\n",
    "]\n",
    "optimizer = optim.Adam(model_param_group, lr=lr, weight_decay=decay)"
   ]
  },
  {
   "cell_type": "markdown",
   "id": "7d6242b3",
   "metadata": {},
   "source": [
    "## Step 6. Start Pretraining"
   ]
  },
  {
   "cell_type": "code",
   "execution_count": 7,
   "id": "5c04d003",
   "metadata": {},
   "outputs": [
    {
     "name": "stderr",
     "output_type": "stream",
     "text": [
      "100%|██████████████████████████████████████████████████████████████████████████████████████████████████████| 1023/1023 [00:54<00:00, 18.62it/s]\n"
     ]
    }
   ],
   "source": [
    "def perturb(x, positions, mu, sigma):\n",
    "    x_perturb = x\n",
    "\n",
    "    device = positions.device\n",
    "    positions_perturb = positions + torch.normal(mu, sigma, size=positions.size()).to(device)\n",
    "\n",
    "    return x_perturb, positions_perturb\n",
    "\n",
    "mu, sigma = 0, 0.3\n",
    "\n",
    "epochs = 1\n",
    "for batch in tqdm(loader):\n",
    "    batch = batch.to(device)\n",
    "\n",
    "    positions = batch.positions\n",
    "\n",
    "    x_01 = batch.x\n",
    "    positions_01 = positions\n",
    "    x_02, positions_02 = perturb(x_01, positions, mu, sigma)\n",
    "\n",
    "    _, molecule_3D_repr_01 = model(x_01, positions_01, batch.batch, return_latent=True)\n",
    "    _, molecule_3D_repr_02 = model(x_02, positions_02, batch.batch, return_latent=True)\n",
    "\n",
    "    super_edge_index = batch.super_edge_index\n",
    "\n",
    "    u_pos_01 = torch.index_select(positions_01, dim=0, index=super_edge_index[0])\n",
    "    v_pos_01 = torch.index_select(positions_01, dim=0, index=super_edge_index[1])\n",
    "    distance_01 = torch.sqrt(torch.sum((u_pos_01-v_pos_01)**2, dim=1)).unsqueeze(1) # (num_edge, 1)\n",
    "    \n",
    "    u_pos_02 = torch.index_select(positions_02, dim=0, index=super_edge_index[0])\n",
    "    v_pos_02 = torch.index_select(positions_02, dim=0, index=super_edge_index[1])\n",
    "    distance_02 = torch.sqrt(torch.sum((u_pos_02-v_pos_02)**2, dim=1)).unsqueeze(1) # (num_edge, 1)\n",
    "\n",
    "    loss_01 = GeoSSL_DDM_01(batch, molecule_3D_repr_01, distance_02)\n",
    "    loss_02 = GeoSSL_DDM_02(batch, molecule_3D_repr_02, distance_01)\n",
    "    \n",
    "    loss = (loss_01 + loss_02) / 2\n",
    "\n",
    "    optimizer.zero_grad()\n",
    "    loss.backward()\n",
    "    optimizer.step()"
   ]
  }
 ],
 "metadata": {
  "kernelspec": {
   "display_name": "Python 3 (ipykernel)",
   "language": "python",
   "name": "python3"
  },
  "language_info": {
   "codemirror_mode": {
    "name": "ipython",
    "version": 3
   },
   "file_extension": ".py",
   "mimetype": "text/x-python",
   "name": "python",
   "nbconvert_exporter": "python",
   "pygments_lexer": "ipython3",
   "version": "3.7.13"
  }
 },
 "nbformat": 4,
 "nbformat_minor": 5
}
